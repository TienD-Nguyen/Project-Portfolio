{
 "cells": [
  {
   "cell_type": "markdown",
   "id": "1afd82a2",
   "metadata": {},
   "source": [
    "<h1 align=\"center\"> Data Exploration on Amazon Bestselling Books </b> </h1><br>"
   ]
  },
  {
   "cell_type": "markdown",
   "id": "6686880e",
   "metadata": {},
   "source": [
    "### Abstract"
   ]
  },
  {
   "cell_type": "markdown",
   "id": "217bde5f",
   "metadata": {},
   "source": [
    "### Data Source\n",
    "##### Overview of data source used in this notebook\n",
    "\n",
    "This .csv dataset contains 550 observations or instances with a mixed of between categorical and numerical attributes distributed into 7 features\n",
    "\n",
    "The data source can be viewed on Kaggle in the folling [LINK](https://www.kaggle.com/sootersaalu/amazon-top-50-bestselling-books-2009-2019)"
   ]
  },
  {
   "cell_type": "markdown",
   "id": "b0977cbd",
   "metadata": {},
   "source": [
    "### Breakdown of this notebook"
   ]
  },
  {
   "cell_type": "markdown",
   "id": "8b792520",
   "metadata": {},
   "source": [
    "### 1. Importing Libraries"
   ]
  },
  {
   "cell_type": "code",
   "execution_count": 41,
   "id": "c038f3b4",
   "metadata": {},
   "outputs": [],
   "source": [
    "# Importing required libraries for the analysis and visualisation of the dataset\n",
    "import numpy as np\n",
    "import pandas as pd\n",
    "import matplotlib.pyplot as plt\n",
    "import seaborn as sns\n",
    "import collections\n",
    "%matplotlib inline"
   ]
  },
  {
   "cell_type": "code",
   "execution_count": 2,
   "id": "9cb90941",
   "metadata": {},
   "outputs": [],
   "source": [
    "# Ignoring messages involved with packages\n",
    "import warnings\n",
    "warnings.filterwarnings(\"ignore\")"
   ]
  },
  {
   "cell_type": "markdown",
   "id": "d476b45d",
   "metadata": {},
   "source": [
    "### 2. Acquiring and Loading the Dataset"
   ]
  },
  {
   "cell_type": "code",
   "execution_count": 3,
   "id": "3a794acb",
   "metadata": {},
   "outputs": [
    {
     "data": {
      "text/html": [
       "<div>\n",
       "<style scoped>\n",
       "    .dataframe tbody tr th:only-of-type {\n",
       "        vertical-align: middle;\n",
       "    }\n",
       "\n",
       "    .dataframe tbody tr th {\n",
       "        vertical-align: top;\n",
       "    }\n",
       "\n",
       "    .dataframe thead th {\n",
       "        text-align: right;\n",
       "    }\n",
       "</style>\n",
       "<table border=\"1\" class=\"dataframe\">\n",
       "  <thead>\n",
       "    <tr style=\"text-align: right;\">\n",
       "      <th></th>\n",
       "      <th>Name</th>\n",
       "      <th>Author</th>\n",
       "      <th>User Rating</th>\n",
       "      <th>Reviews</th>\n",
       "      <th>Price</th>\n",
       "      <th>Year</th>\n",
       "      <th>Genre</th>\n",
       "    </tr>\n",
       "  </thead>\n",
       "  <tbody>\n",
       "    <tr>\n",
       "      <th>0</th>\n",
       "      <td>10-Day Green Smoothie Cleanse</td>\n",
       "      <td>JJ Smith</td>\n",
       "      <td>4.7</td>\n",
       "      <td>17350</td>\n",
       "      <td>8</td>\n",
       "      <td>2016</td>\n",
       "      <td>Non Fiction</td>\n",
       "    </tr>\n",
       "    <tr>\n",
       "      <th>1</th>\n",
       "      <td>11/22/63: A Novel</td>\n",
       "      <td>Stephen King</td>\n",
       "      <td>4.6</td>\n",
       "      <td>2052</td>\n",
       "      <td>22</td>\n",
       "      <td>2011</td>\n",
       "      <td>Fiction</td>\n",
       "    </tr>\n",
       "    <tr>\n",
       "      <th>2</th>\n",
       "      <td>12 Rules for Life: An Antidote to Chaos</td>\n",
       "      <td>Jordan B. Peterson</td>\n",
       "      <td>4.7</td>\n",
       "      <td>18979</td>\n",
       "      <td>15</td>\n",
       "      <td>2018</td>\n",
       "      <td>Non Fiction</td>\n",
       "    </tr>\n",
       "    <tr>\n",
       "      <th>3</th>\n",
       "      <td>1984 (Signet Classics)</td>\n",
       "      <td>George Orwell</td>\n",
       "      <td>4.7</td>\n",
       "      <td>21424</td>\n",
       "      <td>6</td>\n",
       "      <td>2017</td>\n",
       "      <td>Fiction</td>\n",
       "    </tr>\n",
       "    <tr>\n",
       "      <th>4</th>\n",
       "      <td>5,000 Awesome Facts (About Everything!) (Natio...</td>\n",
       "      <td>National Geographic Kids</td>\n",
       "      <td>4.8</td>\n",
       "      <td>7665</td>\n",
       "      <td>12</td>\n",
       "      <td>2019</td>\n",
       "      <td>Non Fiction</td>\n",
       "    </tr>\n",
       "  </tbody>\n",
       "</table>\n",
       "</div>"
      ],
      "text/plain": [
       "                                                Name  \\\n",
       "0                      10-Day Green Smoothie Cleanse   \n",
       "1                                  11/22/63: A Novel   \n",
       "2            12 Rules for Life: An Antidote to Chaos   \n",
       "3                             1984 (Signet Classics)   \n",
       "4  5,000 Awesome Facts (About Everything!) (Natio...   \n",
       "\n",
       "                     Author  User Rating  Reviews  Price  Year        Genre  \n",
       "0                  JJ Smith          4.7    17350      8  2016  Non Fiction  \n",
       "1              Stephen King          4.6     2052     22  2011      Fiction  \n",
       "2        Jordan B. Peterson          4.7    18979     15  2018  Non Fiction  \n",
       "3             George Orwell          4.7    21424      6  2017      Fiction  \n",
       "4  National Geographic Kids          4.8     7665     12  2019  Non Fiction  "
      ]
     },
     "execution_count": 3,
     "metadata": {},
     "output_type": "execute_result"
    }
   ],
   "source": [
    "# Utilising pandas library and \"read_csv\" function to read the Amazon Top 50 Bestselling Books file downloaded from Kaggle.\n",
    "bestsellers = pd.read_csv(\"bestsellers with categories.csv\")\n",
    "\n",
    "# Examining first 5 instances of the Airbnb file\n",
    "bestsellers.head(5)"
   ]
  },
  {
   "cell_type": "code",
   "execution_count": 4,
   "id": "7c3ee68b",
   "metadata": {},
   "outputs": [
    {
     "data": {
      "text/plain": [
       "550"
      ]
     },
     "execution_count": 4,
     "metadata": {},
     "output_type": "execute_result"
    }
   ],
   "source": [
    "# Checking amount of rows/instances in the dataset to understand the size of data that are working with\n",
    "len(bestsellers)"
   ]
  },
  {
   "cell_type": "markdown",
   "id": "d20b4c02",
   "metadata": {},
   "source": [
    "As there's only 550, have not considered duplicated instances, this dataset is seemed to be a small dataset"
   ]
  },
  {
   "cell_type": "code",
   "execution_count": 5,
   "id": "e6ab4369",
   "metadata": {},
   "outputs": [
    {
     "data": {
      "text/plain": [
       "Name            object\n",
       "Author          object\n",
       "User Rating    float64\n",
       "Reviews          int64\n",
       "Price            int64\n",
       "Year             int64\n",
       "Genre           object\n",
       "dtype: object"
      ]
     },
     "execution_count": 5,
     "metadata": {},
     "output_type": "execute_result"
    }
   ],
   "source": [
    "# Checking data type of every column/feature in the dataset\n",
    "bestsellers.dtypes"
   ]
  },
  {
   "cell_type": "markdown",
   "id": "a1f4f2e3",
   "metadata": {},
   "source": [
    "### 3. Data Cleaning, Wrangling and Understanding"
   ]
  },
  {
   "cell_type": "markdown",
   "id": "6a2c42bb",
   "metadata": {},
   "source": [
    "Through examining first 5 instances in the dataset, none contains missing or null values in columns of features. However, examining missing values is still required for data integrity before continuing with analysis."
   ]
  },
  {
   "cell_type": "code",
   "execution_count": 6,
   "id": "61723f1d",
   "metadata": {},
   "outputs": [
    {
     "data": {
      "text/plain": [
       "Name           0\n",
       "Author         0\n",
       "User Rating    0\n",
       "Reviews        0\n",
       "Price          0\n",
       "Year           0\n",
       "Genre          0\n",
       "dtype: int64"
      ]
     },
     "execution_count": 6,
     "metadata": {},
     "output_type": "execute_result"
    }
   ],
   "source": [
    "# Examining which columns contain null values\n",
    "# \"sum\" function supports the finding of total missing values in each column in the dataset.\n",
    "bestsellers.isnull().sum()"
   ]
  },
  {
   "cell_type": "markdown",
   "id": "94c58e53",
   "metadata": {},
   "source": [
    "As there is no missing values in the dataset, there would no need for further handling values in columns of feature. \n",
    "<br>\n",
    "\n",
    "Now, it's turn to taking for duplicate instances. However, before checking for duplicated instances, should create a dataframe that only contain columns of categorical or object dtype for more accurate inspection."
   ]
  },
  {
   "cell_type": "code",
   "execution_count": 7,
   "id": "5ce178f4",
   "metadata": {},
   "outputs": [
    {
     "name": "stdout",
     "output_type": "stream",
     "text": [
      "Columns without numeric data: Name, Author, Genre\n"
     ]
    }
   ],
   "source": [
    "# Create a list of columns that it's dtype is not numeric\n",
    "columns_without_numeric_data = list(bestsellers.select_dtypes(exclude=(\"int\", \"float\")).columns)\n",
    "print(f'Columns without numeric data: {\", \".join(columns_without_numeric_data)}')"
   ]
  },
  {
   "cell_type": "code",
   "execution_count": 8,
   "id": "3570a033",
   "metadata": {},
   "outputs": [
    {
     "name": "stdout",
     "output_type": "stream",
     "text": [
      "Column Name contains duplicates.\n",
      "Column Author contains duplicates.\n",
      "Column Genre contains duplicates.\n"
     ]
    }
   ],
   "source": [
    "# Checking for duplications in the columns\n",
    "for col in columns_without_numeric_data:\n",
    "    if bestsellers[col].duplicated().any() == True:\n",
    "        print(f'Column {col} contains duplicates.')\n",
    "    else:\n",
    "        print(f'Column {col} does not contain duplicates.')"
   ]
  },
  {
   "cell_type": "markdown",
   "id": "8c5cef7e",
   "metadata": {},
   "source": [
    "Interestingly, all three columns of categorical or objective data contain duplicate values.\n",
    "\n",
    "As the result, further exploration on these features is needed. First, let's explore instances contains words in different case and extra spaces."
   ]
  },
  {
   "cell_type": "code",
   "execution_count": 9,
   "id": "83fb23c5",
   "metadata": {},
   "outputs": [
    {
     "name": "stdout",
     "output_type": "stream",
     "text": [
      "Before Name: 351 - After Name: 350\n",
      "Before Author: 248 - After Author: 248\n",
      "Before Genre: 2 - After Genre: 2\n"
     ]
    }
   ],
   "source": [
    "# Checking spelling errors in those defined features.\n",
    "for column in columns_without_numeric_data:\n",
    "    print(f'Before {column}: {len(set(bestsellers[column]))} - After {column}: {len(set(bestsellers[column].str.title().str.strip()))}')"
   ]
  },
  {
   "cell_type": "markdown",
   "id": "d0ed7328",
   "metadata": {},
   "source": [
    "As observed, there were typing erroes in the Name column of the book."
   ]
  },
  {
   "cell_type": "code",
   "execution_count": 10,
   "id": "5b81c9a2",
   "metadata": {},
   "outputs": [],
   "source": [
    "# Correcting typing errors in the main dataset\n",
    "bestsellers[\"Name\"] = bestsellers[\"Name\"].str.title().str.strip()"
   ]
  },
  {
   "cell_type": "code",
   "execution_count": 11,
   "id": "3016158a",
   "metadata": {},
   "outputs": [
    {
     "name": "stdout",
     "output_type": "stream",
     "text": [
      "Before Name: 350 -  After Genre: 350\n",
      "Before Author: 248 -  After Genre: 248\n",
      "Before Genre: 2 -  After Genre: 2\n"
     ]
    }
   ],
   "source": [
    "# Checking the changes and for correct typing\n",
    "for column in columns_without_numeric_data:\n",
    "    print(f'Before {column}: {len(set(bestsellers[column]))} -  After {col}: {len(set(bestsellers[column].str.title().str.strip()))}')"
   ]
  },
  {
   "cell_type": "markdown",
   "id": "7c2aa4d0",
   "metadata": {},
   "source": [
    "Books' name is now corrected from spelling errors and free from duplication. Next, checking if there are same author names but with different spellings."
   ]
  },
  {
   "cell_type": "code",
   "execution_count": 12,
   "id": "d5effee7",
   "metadata": {},
   "outputs": [
    {
     "data": {
      "text/plain": [
       "array(['Abraham Verghese', 'Adam Gasiewski', 'Adam Mansbach', 'Adir Levy',\n",
       "       'Admiral William H. McRaven', 'Adult Coloring Book Designs',\n",
       "       'Alan Moore', 'Alex Michaelides', 'Alice Schertle', 'Allie Brosh',\n",
       "       'American Psychiatric Association',\n",
       "       'American Psychological Association', 'Amor Towles', 'Amy Ramos',\n",
       "       'Amy Shields', 'Andy Weir', 'Angie Grace', 'Angie Thomas',\n",
       "       'Ann Voskamp', 'Ann Whitford Paul', 'Anthony Bourdain',\n",
       "       'Anthony Doerr', 'Atul Gawande', 'Audrey Niffenegger',\n",
       "       'B. J. Novak', 'Bessel van der Kolk M.D.', 'Bill Martin Jr.',\n",
       "       \"Bill O'Reilly\", 'Bill Simmons', 'Blue Star Coloring',\n",
       "       'Bob Woodward', 'Brandon Stanton', 'Brené Brown',\n",
       "       'Brian Kilmeade', 'Bruce Springsteen', 'Carol S. Dweck',\n",
       "       'Celeste Ng', 'Charlaine Harris', 'Charles Duhigg',\n",
       "       'Charles Krauthammer', 'Cheryl Strayed', 'Chip Gaines',\n",
       "       'Chip Heath', 'Chris Cleave', 'Chris Kyle', 'Chrissy Teigen',\n",
       "       'Christina Baker Kline', 'Christopher Paolini',\n",
       "       'Coloring Books for Adults', 'Craig Smith', 'Crispin Boyer', 'DK',\n",
       "       'Dale Carnegie', 'Dan Brown', 'Daniel H. Pink',\n",
       "       'Daniel James Brown', 'Daniel Kahneman', 'Daniel Lipkowitz',\n",
       "       'Dav Pilkey', 'Dave Ramsey', 'David Goggins', 'David Grann',\n",
       "       'David McCullough', 'David Perlmutter MD', 'David Platt',\n",
       "       'David Zinczenko', 'Deborah Diesen',\n",
       "       'Delegates of the Constitutional\\x85', 'Delia Owens',\n",
       "       'Dinah Bucholz', 'Don Miguel Ruiz', 'Donna Tartt', 'Doug Lemov',\n",
       "       'Dr. Seuss', 'Dr. Steven R Gundry MD', 'Drew Daywalt', 'E L James',\n",
       "       'Eben Alexander', 'Edward Klein', 'Edward M. Kennedy',\n",
       "       'Elie Wiesel', 'Elizabeth Strout', 'Emily Winfield Martin',\n",
       "       'Eric Carle', 'Eric Larson', 'Ernest Cline', 'F. A. Hayek',\n",
       "       'F. Scott Fitzgerald', 'Francis Chan', 'Fredrik Backman', 'Gallup',\n",
       "       'Garth Stein', 'Gary Chapman', 'Gayle Forman', 'Geneen Roth',\n",
       "       'George Orwell', 'George R. R. Martin', 'George R.R. Martin',\n",
       "       'George W. Bush', 'Giles Andreae', 'Gillian Flynn', 'Glenn Beck',\n",
       "       'Golden Books', 'Greg Mortenson', 'Harper Lee', 'Heidi Murkoff',\n",
       "       'Hillary Rodham Clinton', 'Hopscotch Girls', 'Howard Stern',\n",
       "       'Ian K. Smith M.D.', 'Ina Garten', 'J. D. Vance', 'J. K. Rowling',\n",
       "       'J.K. Rowling', 'JJ Smith', 'James Comey', 'James Dashner',\n",
       "       'James Patterson', 'Jay Asher', 'Jaycee Dugard', 'Jeff Kinney',\n",
       "       'Jen Sincero', 'Jennifer Smith', 'Jill Twiss', 'Jim Collins',\n",
       "       'Joanna Gaines', 'Joel Fuhrman MD', 'Johanna Basford',\n",
       "       'John Green', 'John Grisham', 'John Heilemann', 'Jon Meacham',\n",
       "       'Jon Stewart', 'Jonathan Cahn', 'Jordan B. Peterson',\n",
       "       'Julia Child', 'Justin Halpern', 'Kathryn Stockett',\n",
       "       'Keith Richards', 'Ken Follett', 'Kevin Kwan', 'Khaled Hosseini',\n",
       "       'Kristin Hannah', 'Larry Schweikart', 'Laura Hillenbrand',\n",
       "       'Laurel Randolph', 'Lin-Manuel Miranda', 'Lysa TerKeurst',\n",
       "       'M Prefontaine', \"Madeleine L'Engle\", 'Malcolm Gladwell',\n",
       "       'Margaret Atwood', 'Margaret Wise Brown', 'Marie Kondō',\n",
       "       'Marjorie Sarnat', 'Mark Hyman M.D.', 'Mark Manson', 'Mark Owen',\n",
       "       'Mark R. Levin', 'Mark Twain', 'Markus Zusak', 'Marty Noble',\n",
       "       'Mary Ann Shaffer', 'Maurice Sendak', 'Melissa Hartwig Urban',\n",
       "       'Michael Lewis', 'Michael Pollan', 'Michael Wolff',\n",
       "       'Michelle Obama', 'Mike Moreno', 'Mitch Albom', 'Muriel Barbery',\n",
       "       'Naomi Kleinberg', 'Nathan W. Pyle', 'National Geographic Kids',\n",
       "       'Neil deGrasse Tyson', 'Paper Peony Press', 'Patrick Lencioni',\n",
       "       'Patrick Thorpe', 'Paul Kalanithi', 'Paula Hawkins',\n",
       "       'Paula McLain', 'Paulo Coelho', 'Pete Souza', 'Peter A. Lillback',\n",
       "       'Phil Robertson', 'Pierre Dukan', 'Pretty Simple Press',\n",
       "       'R. J. Palacio', 'RH Disney', 'Rachel Hollis', 'Raina Telgemeier',\n",
       "       'Randall Munroe', 'Randy Pausch', 'Ray Bradbury', 'Rebecca Skloot',\n",
       "       'Ree Drummond', 'Rick Riordan', 'Rob Bell', 'Rob Elliott',\n",
       "       'Robert Jordan', 'Robert Munsch', 'Rod Campbell', 'Roger Priddy',\n",
       "       'Ron Chernow', 'Rupi Kaur', 'Rush Limbaugh', 'Samin Nosrat',\n",
       "       'Sandra Boynton', 'Sara Gruen', 'Sarah Palin', 'Sarah Young',\n",
       "       \"Sasha O'Hara\", 'Scholastic', 'School Zone',\n",
       "       'Sherri Duskey Rinker', 'Sheryl Sandberg', 'Silly Bear',\n",
       "       'Stephen Kendrick', 'Stephen King', 'Stephen R. Covey',\n",
       "       'Stephenie Meyer', 'Steve Harvey', 'Steven D. Levitt',\n",
       "       'Stieg Larsson', 'Susan Cain', 'Suzanne Collins',\n",
       "       'Ta-Nehisi Coates', 'Tara Westover', 'Tatiana de Rosnay',\n",
       "       'The College Board', 'The Staff of The Late Show with\\x85',\n",
       "       'The Washington Post', 'Thomas Campbell', 'Thomas Piketty',\n",
       "       'Thug Kitchen', 'Timothy Ferriss', 'Tina Fey', 'Todd Burpo',\n",
       "       'Tony Hsieh', 'Tucker Carlson', 'Veronica Roth',\n",
       "       'W. Cleon Skousen', 'Walter Isaacson', 'William Davis',\n",
       "       'William P. Young', 'Wizards RPG Team', 'Zhi Gang Sha'],\n",
       "      dtype=object)"
      ]
     },
     "execution_count": 12,
     "metadata": {},
     "output_type": "execute_result"
    }
   ],
   "source": [
    "# Checking the Author's name for different spellings\n",
    "bestsellers[\"Author\"].sort_values().unique()"
   ]
  },
  {
   "cell_type": "markdown",
   "id": "75aa084e",
   "metadata": {},
   "source": [
    "There have been spotted that George R.R. Martin - George R. R. Martin and J.K. Rowling - J. K. Rowling have different spellings although they are the same authors"
   ]
  },
  {
   "cell_type": "code",
   "execution_count": 19,
   "id": "e23b8413",
   "metadata": {},
   "outputs": [
    {
     "data": {
      "text/plain": [
       "[('George R. R. Martin', 100),\n",
       " ('George R.R. Martin', 100),\n",
       " ('George Orwell', 53),\n",
       " ('Bill Martin Jr.', 52),\n",
       " ('Mark R. Levin', 48)]"
      ]
     },
     "execution_count": 19,
     "metadata": {},
     "output_type": "execute_result"
    }
   ],
   "source": [
    "# Checking the most similar spellings\n",
    "import fuzzywuzzy\n",
    "from fuzzywuzzy import process\n",
    "matches_author_name = fuzzywuzzy.process.extract('George. R.R. Martin',\n",
    "                                                 bestsellers[\"Author\"].sort_values().unique(),\n",
    "                                                 limit=5, scorer=fuzzywuzzy.fuzz.token_sort_ratio)\n",
    "matches_author_name"
   ]
  },
  {
   "cell_type": "code",
   "execution_count": 20,
   "id": "53895c98",
   "metadata": {},
   "outputs": [],
   "source": [
    "# Replace the names of the authors with the correct ones\n",
    "bestsellers = bestsellers.replace('George R. R. Martin', 'George R.R. Martin')\n",
    "bestsellers = bestsellers.replace(\"J. K. Rowling\", \"J.K. Rowling\")"
   ]
  },
  {
   "cell_type": "code",
   "execution_count": 21,
   "id": "ead735e7",
   "metadata": {},
   "outputs": [
    {
     "name": "stdout",
     "output_type": "stream",
     "text": [
      "Before Name: 350 - After Name: 350\n",
      "Before Author: 246 - After Author: 246\n",
      "Before Genre: 2 - After Genre: 2\n"
     ]
    }
   ],
   "source": [
    "# Checking again if the name is replaced correctly and there is no inconsistent format\n",
    "for column in columns_without_numeric_data:\n",
    "    print(f'Before {column}: {len(set(bestsellers[column]))} - After {column}: {len(set(bestsellers[column].str.title().str.strip()))}')"
   ]
  },
  {
   "cell_type": "code",
   "execution_count": 22,
   "id": "51c014d3",
   "metadata": {},
   "outputs": [
    {
     "data": {
      "text/plain": [
       "array(['Non Fiction', 'Fiction'], dtype=object)"
      ]
     },
     "execution_count": 22,
     "metadata": {},
     "output_type": "execute_result"
    }
   ],
   "source": [
    "# Checking for Genre features\n",
    "bestsellers[\"Genre\"].unique()"
   ]
  },
  {
   "cell_type": "code",
   "execution_count": 26,
   "id": "226e9bae",
   "metadata": {},
   "outputs": [
    {
     "data": {
      "text/plain": [
       "[2009, 2010, 2011, 2012, 2013, 2014, 2015, 2016, 2017, 2018, 2019]"
      ]
     },
     "execution_count": 26,
     "metadata": {},
     "output_type": "execute_result"
    }
   ],
   "source": [
    "# Checking with Year to see if there is typing errors\n",
    "sorted(list(bestsellers[\"Year\"].unique()))"
   ]
  },
  {
   "cell_type": "markdown",
   "id": "84d31d81",
   "metadata": {},
   "source": [
    "Things are seemed to be fine with Genre and Year. Let's us re-check the dataframe to ensure everything is consistent."
   ]
  },
  {
   "cell_type": "code",
   "execution_count": 27,
   "id": "8415f377",
   "metadata": {},
   "outputs": [
    {
     "data": {
      "text/html": [
       "<div>\n",
       "<style scoped>\n",
       "    .dataframe tbody tr th:only-of-type {\n",
       "        vertical-align: middle;\n",
       "    }\n",
       "\n",
       "    .dataframe tbody tr th {\n",
       "        vertical-align: top;\n",
       "    }\n",
       "\n",
       "    .dataframe thead th {\n",
       "        text-align: right;\n",
       "    }\n",
       "</style>\n",
       "<table border=\"1\" class=\"dataframe\">\n",
       "  <thead>\n",
       "    <tr style=\"text-align: right;\">\n",
       "      <th></th>\n",
       "      <th>Name</th>\n",
       "      <th>Author</th>\n",
       "      <th>User Rating</th>\n",
       "      <th>Reviews</th>\n",
       "      <th>Price</th>\n",
       "      <th>Year</th>\n",
       "      <th>Genre</th>\n",
       "    </tr>\n",
       "  </thead>\n",
       "  <tbody>\n",
       "    <tr>\n",
       "      <th>0</th>\n",
       "      <td>10-Day Green Smoothie Cleanse</td>\n",
       "      <td>JJ Smith</td>\n",
       "      <td>4.7</td>\n",
       "      <td>17350</td>\n",
       "      <td>8</td>\n",
       "      <td>2016</td>\n",
       "      <td>Non Fiction</td>\n",
       "    </tr>\n",
       "    <tr>\n",
       "      <th>1</th>\n",
       "      <td>11/22/63: A Novel</td>\n",
       "      <td>Stephen King</td>\n",
       "      <td>4.6</td>\n",
       "      <td>2052</td>\n",
       "      <td>22</td>\n",
       "      <td>2011</td>\n",
       "      <td>Fiction</td>\n",
       "    </tr>\n",
       "    <tr>\n",
       "      <th>2</th>\n",
       "      <td>12 Rules For Life: An Antidote To Chaos</td>\n",
       "      <td>Jordan B. Peterson</td>\n",
       "      <td>4.7</td>\n",
       "      <td>18979</td>\n",
       "      <td>15</td>\n",
       "      <td>2018</td>\n",
       "      <td>Non Fiction</td>\n",
       "    </tr>\n",
       "    <tr>\n",
       "      <th>3</th>\n",
       "      <td>1984 (Signet Classics)</td>\n",
       "      <td>George Orwell</td>\n",
       "      <td>4.7</td>\n",
       "      <td>21424</td>\n",
       "      <td>6</td>\n",
       "      <td>2017</td>\n",
       "      <td>Fiction</td>\n",
       "    </tr>\n",
       "    <tr>\n",
       "      <th>4</th>\n",
       "      <td>5,000 Awesome Facts (About Everything!) (Natio...</td>\n",
       "      <td>National Geographic Kids</td>\n",
       "      <td>4.8</td>\n",
       "      <td>7665</td>\n",
       "      <td>12</td>\n",
       "      <td>2019</td>\n",
       "      <td>Non Fiction</td>\n",
       "    </tr>\n",
       "    <tr>\n",
       "      <th>...</th>\n",
       "      <td>...</td>\n",
       "      <td>...</td>\n",
       "      <td>...</td>\n",
       "      <td>...</td>\n",
       "      <td>...</td>\n",
       "      <td>...</td>\n",
       "      <td>...</td>\n",
       "    </tr>\n",
       "    <tr>\n",
       "      <th>545</th>\n",
       "      <td>Wrecking Ball (Diary Of A Wimpy Kid Book 14)</td>\n",
       "      <td>Jeff Kinney</td>\n",
       "      <td>4.9</td>\n",
       "      <td>9413</td>\n",
       "      <td>8</td>\n",
       "      <td>2019</td>\n",
       "      <td>Fiction</td>\n",
       "    </tr>\n",
       "    <tr>\n",
       "      <th>546</th>\n",
       "      <td>You Are A Badass: How To Stop Doubting Your Gr...</td>\n",
       "      <td>Jen Sincero</td>\n",
       "      <td>4.7</td>\n",
       "      <td>14331</td>\n",
       "      <td>8</td>\n",
       "      <td>2016</td>\n",
       "      <td>Non Fiction</td>\n",
       "    </tr>\n",
       "    <tr>\n",
       "      <th>547</th>\n",
       "      <td>You Are A Badass: How To Stop Doubting Your Gr...</td>\n",
       "      <td>Jen Sincero</td>\n",
       "      <td>4.7</td>\n",
       "      <td>14331</td>\n",
       "      <td>8</td>\n",
       "      <td>2017</td>\n",
       "      <td>Non Fiction</td>\n",
       "    </tr>\n",
       "    <tr>\n",
       "      <th>548</th>\n",
       "      <td>You Are A Badass: How To Stop Doubting Your Gr...</td>\n",
       "      <td>Jen Sincero</td>\n",
       "      <td>4.7</td>\n",
       "      <td>14331</td>\n",
       "      <td>8</td>\n",
       "      <td>2018</td>\n",
       "      <td>Non Fiction</td>\n",
       "    </tr>\n",
       "    <tr>\n",
       "      <th>549</th>\n",
       "      <td>You Are A Badass: How To Stop Doubting Your Gr...</td>\n",
       "      <td>Jen Sincero</td>\n",
       "      <td>4.7</td>\n",
       "      <td>14331</td>\n",
       "      <td>8</td>\n",
       "      <td>2019</td>\n",
       "      <td>Non Fiction</td>\n",
       "    </tr>\n",
       "  </tbody>\n",
       "</table>\n",
       "<p>550 rows × 7 columns</p>\n",
       "</div>"
      ],
      "text/plain": [
       "                                                  Name  \\\n",
       "0                        10-Day Green Smoothie Cleanse   \n",
       "1                                    11/22/63: A Novel   \n",
       "2              12 Rules For Life: An Antidote To Chaos   \n",
       "3                               1984 (Signet Classics)   \n",
       "4    5,000 Awesome Facts (About Everything!) (Natio...   \n",
       "..                                                 ...   \n",
       "545       Wrecking Ball (Diary Of A Wimpy Kid Book 14)   \n",
       "546  You Are A Badass: How To Stop Doubting Your Gr...   \n",
       "547  You Are A Badass: How To Stop Doubting Your Gr...   \n",
       "548  You Are A Badass: How To Stop Doubting Your Gr...   \n",
       "549  You Are A Badass: How To Stop Doubting Your Gr...   \n",
       "\n",
       "                       Author  User Rating  Reviews  Price  Year        Genre  \n",
       "0                    JJ Smith          4.7    17350      8  2016  Non Fiction  \n",
       "1                Stephen King          4.6     2052     22  2011      Fiction  \n",
       "2          Jordan B. Peterson          4.7    18979     15  2018  Non Fiction  \n",
       "3               George Orwell          4.7    21424      6  2017      Fiction  \n",
       "4    National Geographic Kids          4.8     7665     12  2019  Non Fiction  \n",
       "..                        ...          ...      ...    ...   ...          ...  \n",
       "545               Jeff Kinney          4.9     9413      8  2019      Fiction  \n",
       "546               Jen Sincero          4.7    14331      8  2016  Non Fiction  \n",
       "547               Jen Sincero          4.7    14331      8  2017  Non Fiction  \n",
       "548               Jen Sincero          4.7    14331      8  2018  Non Fiction  \n",
       "549               Jen Sincero          4.7    14331      8  2019  Non Fiction  \n",
       "\n",
       "[550 rows x 7 columns]"
      ]
     },
     "execution_count": 27,
     "metadata": {},
     "output_type": "execute_result"
    }
   ],
   "source": [
    "# Let's display the dataframe\n",
    "bestsellers"
   ]
  },
  {
   "cell_type": "markdown",
   "id": "e79b38ef",
   "metadata": {},
   "source": [
    "Eventhough duplicated instances have been handled through processing Books' name and Athour, but still, there are duplications with different years, which would create skewer of data. \n",
    "\n",
    "A new dataframe that not contain the year would be created for better analysis."
   ]
  },
  {
   "cell_type": "code",
   "execution_count": 32,
   "id": "b0952a41",
   "metadata": {},
   "outputs": [],
   "source": [
    "bestsellers_without_year = bestsellers.drop([\"Year\"], axis=1)"
   ]
  },
  {
   "cell_type": "code",
   "execution_count": 39,
   "id": "00ce1fd8",
   "metadata": {},
   "outputs": [
    {
     "name": "stdout",
     "output_type": "stream",
     "text": [
      "<class 'pandas.core.frame.DataFrame'>\n",
      "Int64Index: 361 entries, 0 to 546\n",
      "Data columns (total 6 columns):\n",
      " #   Column       Non-Null Count  Dtype  \n",
      "---  ------       --------------  -----  \n",
      " 0   Name         361 non-null    object \n",
      " 1   Author       361 non-null    object \n",
      " 2   User Rating  361 non-null    float64\n",
      " 3   Reviews      361 non-null    int64  \n",
      " 4   Price        361 non-null    int64  \n",
      " 5   Genre        361 non-null    object \n",
      "dtypes: float64(1), int64(2), object(3)\n",
      "memory usage: 19.7+ KB\n"
     ]
    }
   ],
   "source": [
    "# Then, remove duplicates and check how many instances are left in the data\n",
    "bestsellers_without_year = bestsellers_without_year.drop_duplicates(keep=\"first\")\n",
    "bestsellers_without_year.info()"
   ]
  },
  {
   "cell_type": "markdown",
   "id": "30c8b3eb",
   "metadata": {},
   "source": [
    "After dropping the \"Year\" feature and duplicated instances, the dataframe still contains 11 more books titles than actual unique value count above.\n",
    "<br>\n",
    "In the next snippet, the reason behind duplication would be again explored."
   ]
  },
  {
   "cell_type": "code",
   "execution_count": 44,
   "id": "997bd728",
   "metadata": {},
   "outputs": [
    {
     "name": "stdout",
     "output_type": "stream",
     "text": [
      "('The Help', 3)\n",
      "('Gone Girl', 2)\n",
      "(\"Quiet: The Power Of Introverts In A World That Can'T Stop Talking\", 2)\n",
      "('The 5 Love Languages: The Secret To Love That Lasts', 2)\n",
      "('The 7 Habits Of Highly Effective People: Powerful Lessons In Personal Change', 2)\n",
      "('The Fault In Our Stars', 2)\n",
      "('The Girl On The Train', 2)\n",
      "('The Immortal Life Of Henrietta Lacks', 2)\n",
      "('To Kill A Mockingbird', 2)\n",
      "('Unbroken: A World War Ii Story Of Survival, Resilience, And Redemption', 2)\n",
      "('10-Day Green Smoothie Cleanse', 1)\n",
      "('11/22/63: A Novel', 1)\n",
      "('12 Rules For Life: An Antidote To Chaos', 1)\n",
      "('1984 (Signet Classics)', 1)\n",
      "('5,000 Awesome Facts (About Everything!) (National Geographic Kids)', 1)\n",
      "('A Dance With Dragons (A Song Of Ice And Fire)', 1)\n",
      "('A Game Of Thrones / A Clash Of Kings / A Storm Of Swords / A Feast Of Crows / A Dance With Dragons', 1)\n",
      "('A Gentleman In Moscow: A Novel', 1)\n",
      "('A Higher Loyalty: Truth, Lies, And Leadership', 1)\n",
      "('A Man Called Ove: A Novel', 1)\n"
     ]
    }
   ],
   "source": [
    "title_count = collections.Counter(bestsellers_without_year[\"Name\"].tolist())\n",
    "for title in title_count.most_common(20):\n",
    "    print(title)"
   ]
  },
  {
   "cell_type": "markdown",
   "id": "9a913912",
   "metadata": {},
   "source": [
    "As the list has shown, there are some book titles appear more than one times."
   ]
  },
  {
   "cell_type": "code",
   "execution_count": 45,
   "id": "47f5085e",
   "metadata": {
    "scrolled": true
   },
   "outputs": [
    {
     "data": {
      "text/html": [
       "<div>\n",
       "<style scoped>\n",
       "    .dataframe tbody tr th:only-of-type {\n",
       "        vertical-align: middle;\n",
       "    }\n",
       "\n",
       "    .dataframe tbody tr th {\n",
       "        vertical-align: top;\n",
       "    }\n",
       "\n",
       "    .dataframe thead th {\n",
       "        text-align: right;\n",
       "    }\n",
       "</style>\n",
       "<table border=\"1\" class=\"dataframe\">\n",
       "  <thead>\n",
       "    <tr style=\"text-align: right;\">\n",
       "      <th></th>\n",
       "      <th>Name</th>\n",
       "      <th>Author</th>\n",
       "      <th>User Rating</th>\n",
       "      <th>Reviews</th>\n",
       "      <th>Price</th>\n",
       "      <th>Genre</th>\n",
       "    </tr>\n",
       "  </thead>\n",
       "  <tbody>\n",
       "    <tr>\n",
       "      <th>402</th>\n",
       "      <td>The Help</td>\n",
       "      <td>Kathryn Stockett</td>\n",
       "      <td>4.8</td>\n",
       "      <td>13871</td>\n",
       "      <td>6</td>\n",
       "      <td>Fiction</td>\n",
       "    </tr>\n",
       "    <tr>\n",
       "      <th>404</th>\n",
       "      <td>The Help</td>\n",
       "      <td>Kathryn Stockett</td>\n",
       "      <td>4.8</td>\n",
       "      <td>13871</td>\n",
       "      <td>8</td>\n",
       "      <td>Fiction</td>\n",
       "    </tr>\n",
       "    <tr>\n",
       "      <th>405</th>\n",
       "      <td>The Help</td>\n",
       "      <td>Kathryn Stockett</td>\n",
       "      <td>4.8</td>\n",
       "      <td>13871</td>\n",
       "      <td>7</td>\n",
       "      <td>Fiction</td>\n",
       "    </tr>\n",
       "  </tbody>\n",
       "</table>\n",
       "</div>"
      ],
      "text/plain": [
       "         Name            Author  User Rating  Reviews  Price    Genre\n",
       "402  The Help  Kathryn Stockett          4.8    13871      6  Fiction\n",
       "404  The Help  Kathryn Stockett          4.8    13871      8  Fiction\n",
       "405  The Help  Kathryn Stockett          4.8    13871      7  Fiction"
      ]
     },
     "execution_count": 45,
     "metadata": {},
     "output_type": "execute_result"
    }
   ],
   "source": [
    "# Display and exploring the duplication of a book title\n",
    "bestsellers_without_year[bestsellers_without_year[\"Name\"] == \"The Help\"]"
   ]
  },
  {
   "cell_type": "markdown",
   "id": "16dcafaa",
   "metadata": {},
   "source": [
    "Instances are duplicated by price. In different years, book's price would cost different with the adjustment to inflation as logic or depend by demand. Last entries would be removed from the dataframe in the next snippet."
   ]
  },
  {
   "cell_type": "code",
   "execution_count": 47,
   "id": "ea01da4e",
   "metadata": {},
   "outputs": [
    {
     "data": {
      "text/html": [
       "<div>\n",
       "<style scoped>\n",
       "    .dataframe tbody tr th:only-of-type {\n",
       "        vertical-align: middle;\n",
       "    }\n",
       "\n",
       "    .dataframe tbody tr th {\n",
       "        vertical-align: top;\n",
       "    }\n",
       "\n",
       "    .dataframe thead th {\n",
       "        text-align: right;\n",
       "    }\n",
       "</style>\n",
       "<table border=\"1\" class=\"dataframe\">\n",
       "  <thead>\n",
       "    <tr style=\"text-align: right;\">\n",
       "      <th></th>\n",
       "      <th>Name</th>\n",
       "      <th>Author</th>\n",
       "      <th>User Rating</th>\n",
       "      <th>Reviews</th>\n",
       "      <th>Price</th>\n",
       "      <th>Genre</th>\n",
       "    </tr>\n",
       "  </thead>\n",
       "  <tbody>\n",
       "    <tr>\n",
       "      <th>0</th>\n",
       "      <td>10-Day Green Smoothie Cleanse</td>\n",
       "      <td>JJ Smith</td>\n",
       "      <td>4.7</td>\n",
       "      <td>17350</td>\n",
       "      <td>8</td>\n",
       "      <td>Non Fiction</td>\n",
       "    </tr>\n",
       "    <tr>\n",
       "      <th>1</th>\n",
       "      <td>11/22/63: A Novel</td>\n",
       "      <td>Stephen King</td>\n",
       "      <td>4.6</td>\n",
       "      <td>2052</td>\n",
       "      <td>22</td>\n",
       "      <td>Fiction</td>\n",
       "    </tr>\n",
       "    <tr>\n",
       "      <th>2</th>\n",
       "      <td>12 Rules For Life: An Antidote To Chaos</td>\n",
       "      <td>Jordan B. Peterson</td>\n",
       "      <td>4.7</td>\n",
       "      <td>18979</td>\n",
       "      <td>15</td>\n",
       "      <td>Non Fiction</td>\n",
       "    </tr>\n",
       "    <tr>\n",
       "      <th>3</th>\n",
       "      <td>1984 (Signet Classics)</td>\n",
       "      <td>George Orwell</td>\n",
       "      <td>4.7</td>\n",
       "      <td>21424</td>\n",
       "      <td>6</td>\n",
       "      <td>Fiction</td>\n",
       "    </tr>\n",
       "    <tr>\n",
       "      <th>4</th>\n",
       "      <td>5,000 Awesome Facts (About Everything!) (Natio...</td>\n",
       "      <td>National Geographic Kids</td>\n",
       "      <td>4.8</td>\n",
       "      <td>7665</td>\n",
       "      <td>12</td>\n",
       "      <td>Non Fiction</td>\n",
       "    </tr>\n",
       "    <tr>\n",
       "      <th>...</th>\n",
       "      <td>...</td>\n",
       "      <td>...</td>\n",
       "      <td>...</td>\n",
       "      <td>...</td>\n",
       "      <td>...</td>\n",
       "      <td>...</td>\n",
       "    </tr>\n",
       "    <tr>\n",
       "      <th>538</th>\n",
       "      <td>Winter Of The World: Book Two Of The Century T...</td>\n",
       "      <td>Ken Follett</td>\n",
       "      <td>4.5</td>\n",
       "      <td>10760</td>\n",
       "      <td>15</td>\n",
       "      <td>Fiction</td>\n",
       "    </tr>\n",
       "    <tr>\n",
       "      <th>539</th>\n",
       "      <td>Women Food And God: An Unexpected Path To Almo...</td>\n",
       "      <td>Geneen Roth</td>\n",
       "      <td>4.2</td>\n",
       "      <td>1302</td>\n",
       "      <td>11</td>\n",
       "      <td>Non Fiction</td>\n",
       "    </tr>\n",
       "    <tr>\n",
       "      <th>540</th>\n",
       "      <td>Wonder</td>\n",
       "      <td>R. J. Palacio</td>\n",
       "      <td>4.8</td>\n",
       "      <td>21625</td>\n",
       "      <td>9</td>\n",
       "      <td>Fiction</td>\n",
       "    </tr>\n",
       "    <tr>\n",
       "      <th>545</th>\n",
       "      <td>Wrecking Ball (Diary Of A Wimpy Kid Book 14)</td>\n",
       "      <td>Jeff Kinney</td>\n",
       "      <td>4.9</td>\n",
       "      <td>9413</td>\n",
       "      <td>8</td>\n",
       "      <td>Fiction</td>\n",
       "    </tr>\n",
       "    <tr>\n",
       "      <th>546</th>\n",
       "      <td>You Are A Badass: How To Stop Doubting Your Gr...</td>\n",
       "      <td>Jen Sincero</td>\n",
       "      <td>4.7</td>\n",
       "      <td>14331</td>\n",
       "      <td>8</td>\n",
       "      <td>Non Fiction</td>\n",
       "    </tr>\n",
       "  </tbody>\n",
       "</table>\n",
       "<p>350 rows × 6 columns</p>\n",
       "</div>"
      ],
      "text/plain": [
       "                                                  Name  \\\n",
       "0                        10-Day Green Smoothie Cleanse   \n",
       "1                                    11/22/63: A Novel   \n",
       "2              12 Rules For Life: An Antidote To Chaos   \n",
       "3                               1984 (Signet Classics)   \n",
       "4    5,000 Awesome Facts (About Everything!) (Natio...   \n",
       "..                                                 ...   \n",
       "538  Winter Of The World: Book Two Of The Century T...   \n",
       "539  Women Food And God: An Unexpected Path To Almo...   \n",
       "540                                             Wonder   \n",
       "545       Wrecking Ball (Diary Of A Wimpy Kid Book 14)   \n",
       "546  You Are A Badass: How To Stop Doubting Your Gr...   \n",
       "\n",
       "                       Author  User Rating  Reviews  Price        Genre  \n",
       "0                    JJ Smith          4.7    17350      8  Non Fiction  \n",
       "1                Stephen King          4.6     2052     22      Fiction  \n",
       "2          Jordan B. Peterson          4.7    18979     15  Non Fiction  \n",
       "3               George Orwell          4.7    21424      6      Fiction  \n",
       "4    National Geographic Kids          4.8     7665     12  Non Fiction  \n",
       "..                        ...          ...      ...    ...          ...  \n",
       "538               Ken Follett          4.5    10760     15      Fiction  \n",
       "539               Geneen Roth          4.2     1302     11  Non Fiction  \n",
       "540             R. J. Palacio          4.8    21625      9      Fiction  \n",
       "545               Jeff Kinney          4.9     9413      8      Fiction  \n",
       "546               Jen Sincero          4.7    14331      8  Non Fiction  \n",
       "\n",
       "[350 rows x 6 columns]"
      ]
     },
     "execution_count": 47,
     "metadata": {},
     "output_type": "execute_result"
    }
   ],
   "source": [
    "# Dropping duplication by price\n",
    "bestsellers_without_year = bestsellers_without_year.drop_duplicates(subset=\"Name\", keep=\"last\")\n",
    "bestsellers_without_year"
   ]
  },
  {
   "cell_type": "markdown",
   "id": "4df63fde",
   "metadata": {},
   "source": [
    "### 4. Exploring and Visualising Data\n",
    "##### Exploring data through visualising features' values and correlation between different features and visual analytics\n",
    "##### This section includes the explanation of the process and the results"
   ]
  },
  {
   "cell_type": "markdown",
   "id": "ea4ab01a",
   "metadata": {},
   "source": [
    "As the dataframe is cleared from duplicated instances and any missing values. The bestselling books data is explored in this section to answer follwing question:\n",
    "* Which author receive highest average rating with their books\n",
    "* Which author has written the most bestsellers\n",
    "* Which genres is often a bestsellers\n",
    "* Which book has the most reviews"
   ]
  },
  {
   "cell_type": "markdown",
   "id": "1827e6fb",
   "metadata": {},
   "source": [
    "However, before answering those questions, the data would be explored first from left to right of the dataset's features to ensure each feature is explored.\n",
    "\n",
    "This approach would be effective when exploring larger dataset with numerous attributes and allow remembering which feature was explored individually to ensure obtaining much knowledge from the dataset as possible."
   ]
  },
  {
   "cell_type": "code",
   "execution_count": 86,
   "id": "ff712cdd",
   "metadata": {},
   "outputs": [],
   "source": [
    "# Setting figure configuration for the visualisation\n",
    "sns.set(rc={'figure.figsize': (30,8)})\n",
    "sns.set_style(\"white\")"
   ]
  },
  {
   "cell_type": "code",
   "execution_count": 95,
   "id": "5eb7e364",
   "metadata": {},
   "outputs": [
    {
     "data": {
      "image/png": "[encoded data removed]",
      "text/plain": [
       "<Figure size 360x360 with 1 Axes>"
      ]
     },
     "metadata": {},
     "output_type": "display_data"
    }
   ],
   "source": [
    "# Utilising distribution plot to visualise the distribution of user rating in the dataset\n",
    "viz_1 = sns.displot(data=bestsellers_without_year, x=\"User Rating\", kde=True)\n",
    "viz_1.fig.suptitle(\"Distribution of User Rating Scores\")\n",
    "plt.show()"
   ]
  },
  {
   "cell_type": "markdown",
   "id": "7d6c30e3",
   "metadata": {},
   "source": [
    "From the first visualisation, we can observe that most of the bestselling books received around 4.6 to 4.8 user rating scores."
   ]
  },
  {
   "cell_type": "code",
   "execution_count": 99,
   "id": "4200fbc5",
   "metadata": {},
   "outputs": [
    {
     "data": {
      "image/png": "[encoded data removed]",
      "text/plain": [
       "<Figure size 360x360 with 1 Axes>"
      ]
     },
     "metadata": {},
     "output_type": "display_data"
    }
   ],
   "source": [
    "# Examining the distribution of price for bestselling books\n",
    "viz_2 = sns.displot(data=bestsellers_without_year, x=\"Price\", kde=True)\n",
    "viz_2.fig.suptitle(\"Distribution of Bestselling Books' price \")\n",
    "plt.show()"
   ]
  },
  {
   "cell_type": "markdown",
   "id": "ef47d59e",
   "metadata": {},
   "source": [
    "With bestselling books, the price it takes to obtain a book is around 5-15 dollar. This can be considered as a relatively inexpensive price tag for such a book that would bring in much values."
   ]
  },
  {
   "cell_type": "code",
   "execution_count": 150,
   "id": "3d98bc9d",
   "metadata": {},
   "outputs": [
    {
     "data": {
      "image/png": "[encoded data removed]",
      "text/plain": [
       "<Figure size 1080x576 with 1 Axes>"
      ]
     },
     "metadata": {},
     "output_type": "display_data"
    }
   ],
   "source": [
    "# Examining the distribution of number of reviews\n",
    "plt.figure(figsize=(15,8))\n",
    "viz_3 = sns.boxplot(x=bestsellers_without_year[\"Reviews\"])\n",
    "viz_3.set(xlabel=\"Number of Reviews\")\n",
    "plt.show()"
   ]
  },
  {
   "cell_type": "code",
   "execution_count": 151,
   "id": "348d0dc3",
   "metadata": {},
   "outputs": [
    {
     "data": {
      "image/png": "[encoded data removed]",
      "text/plain": [
       "<Figure size 2160x576 with 1 Axes>"
      ]
     },
     "metadata": {},
     "output_type": "display_data"
    }
   ],
   "source": [
    "# Next, examining the distribution of published Genre during the period of 2009 to 2019\n",
    "books_by_genre = bestsellers_without_year.groupby(\"Genre\")[[\"Name\"]].count().reset_index()\n",
    "viz_4, ax = plt.subplots()\n",
    "_, texts, autotexts = ax.pie(x=books_by_genre[\"Name\"], labels=books_by_genre[\"Genre\"], \n",
    "                             explode=[0.05, 0], autopct=\"%1.1f%%\", \n",
    "                             colors=sns.color_palette(\"pastel\"))\n",
    "plt.setp(autotexts, size=13, weight=\"bold\")\n",
    "plt.setp(texts, size=14)\n",
    "ax.set_title(\"Distribution of Bestsellers' Genre during 2009-2019\", size=14, weight=\"bold\")\n",
    "plt.show()"
   ]
  },
  {
   "cell_type": "markdown",
   "id": "3a18549a",
   "metadata": {},
   "source": [
    "From the fourth visualisation, non-fiction books is more likely to become a bestsellers where it offers different perspectives from characters in the books as the assumptions.\n",
    "\n",
    "This visualisation also answer the question on which genre often becomes the bestsellers"
   ]
  },
  {
   "cell_type": "code",
   "execution_count": 48,
   "id": "a61796c1",
   "metadata": {},
   "outputs": [
    {
     "data": {
      "text/html": [
       "<div>\n",
       "<style scoped>\n",
       "    .dataframe tbody tr th:only-of-type {\n",
       "        vertical-align: middle;\n",
       "    }\n",
       "\n",
       "    .dataframe tbody tr th {\n",
       "        vertical-align: top;\n",
       "    }\n",
       "\n",
       "    .dataframe thead th {\n",
       "        text-align: right;\n",
       "    }\n",
       "</style>\n",
       "<table border=\"1\" class=\"dataframe\">\n",
       "  <thead>\n",
       "    <tr style=\"text-align: right;\">\n",
       "      <th></th>\n",
       "      <th>Author</th>\n",
       "      <th>User Rating</th>\n",
       "    </tr>\n",
       "  </thead>\n",
       "  <tbody>\n",
       "    <tr>\n",
       "      <th>0</th>\n",
       "      <td>Nathan W. Pyle</td>\n",
       "      <td>4.9</td>\n",
       "    </tr>\n",
       "    <tr>\n",
       "      <th>1</th>\n",
       "      <td>Patrick Thorpe</td>\n",
       "      <td>4.9</td>\n",
       "    </tr>\n",
       "    <tr>\n",
       "      <th>2</th>\n",
       "      <td>Eric Carle</td>\n",
       "      <td>4.9</td>\n",
       "    </tr>\n",
       "    <tr>\n",
       "      <th>3</th>\n",
       "      <td>Emily Winfield Martin</td>\n",
       "      <td>4.9</td>\n",
       "    </tr>\n",
       "    <tr>\n",
       "      <th>4</th>\n",
       "      <td>Chip Gaines</td>\n",
       "      <td>4.9</td>\n",
       "    </tr>\n",
       "    <tr>\n",
       "      <th>5</th>\n",
       "      <td>Jill Twiss</td>\n",
       "      <td>4.9</td>\n",
       "    </tr>\n",
       "    <tr>\n",
       "      <th>6</th>\n",
       "      <td>Rush Limbaugh</td>\n",
       "      <td>4.9</td>\n",
       "    </tr>\n",
       "    <tr>\n",
       "      <th>7</th>\n",
       "      <td>Sherri Duskey Rinker</td>\n",
       "      <td>4.9</td>\n",
       "    </tr>\n",
       "    <tr>\n",
       "      <th>8</th>\n",
       "      <td>Alice Schertle</td>\n",
       "      <td>4.9</td>\n",
       "    </tr>\n",
       "    <tr>\n",
       "      <th>9</th>\n",
       "      <td>Pete Souza</td>\n",
       "      <td>4.9</td>\n",
       "    </tr>\n",
       "  </tbody>\n",
       "</table>\n",
       "</div>"
      ],
      "text/plain": [
       "                  Author  User Rating\n",
       "0         Nathan W. Pyle          4.9\n",
       "1         Patrick Thorpe          4.9\n",
       "2             Eric Carle          4.9\n",
       "3  Emily Winfield Martin          4.9\n",
       "4            Chip Gaines          4.9\n",
       "5             Jill Twiss          4.9\n",
       "6          Rush Limbaugh          4.9\n",
       "7   Sherri Duskey Rinker          4.9\n",
       "8         Alice Schertle          4.9\n",
       "9             Pete Souza          4.9"
      ]
     },
     "execution_count": 48,
     "metadata": {},
     "output_type": "execute_result"
    }
   ],
   "source": [
    "# Let's explore which author receive highest average rating with their books\n",
    "\n",
    "# To explore and answer the question, a new Series is created with associated data\n",
    "top_10_author = bestsellers_without_year.groupby(\"Author\")[[\"User Rating\"]].mean()\\\n",
    "                .sort_values(\"User Rating\", ascending=False).head(10).reset_index()\n",
    "\n",
    "top_10_author"
   ]
  },
  {
   "cell_type": "markdown",
   "id": "5b4412d5",
   "metadata": {},
   "source": [
    "From the newly created Series, the top 10 author with highest average rating are: Nathan W. Pyle, Patrick Thorpe, Eric Carle, Emily Winfield Martin, Chip Gaines, Jill Twiss, Rush Limbaugh, Sherri Duskey Rinker, ALice Schertle and Pete Souza.\n",
    "<br>\n",
    "\n",
    "These are authors who often receive high user rating scores for their masterpieces or books. Therefore, when it is the time up for book shopping, these top author should be paid more attention "
   ]
  },
  {
   "cell_type": "code",
   "execution_count": 69,
   "id": "a8a3e330",
   "metadata": {},
   "outputs": [
    {
     "data": {
      "text/html": [
       "<div>\n",
       "<style scoped>\n",
       "    .dataframe tbody tr th:only-of-type {\n",
       "        vertical-align: middle;\n",
       "    }\n",
       "\n",
       "    .dataframe tbody tr th {\n",
       "        vertical-align: top;\n",
       "    }\n",
       "\n",
       "    .dataframe thead th {\n",
       "        text-align: right;\n",
       "    }\n",
       "</style>\n",
       "<table border=\"1\" class=\"dataframe\">\n",
       "  <thead>\n",
       "    <tr style=\"text-align: right;\">\n",
       "      <th></th>\n",
       "      <th>Author</th>\n",
       "      <th>Name</th>\n",
       "    </tr>\n",
       "  </thead>\n",
       "  <tbody>\n",
       "    <tr>\n",
       "      <th>0</th>\n",
       "      <td>Jeff Kinney</td>\n",
       "      <td>12</td>\n",
       "    </tr>\n",
       "    <tr>\n",
       "      <th>1</th>\n",
       "      <td>Rick Riordan</td>\n",
       "      <td>10</td>\n",
       "    </tr>\n",
       "    <tr>\n",
       "      <th>2</th>\n",
       "      <td>J.K. Rowling</td>\n",
       "      <td>8</td>\n",
       "    </tr>\n",
       "    <tr>\n",
       "      <th>3</th>\n",
       "      <td>Stephenie Meyer</td>\n",
       "      <td>7</td>\n",
       "    </tr>\n",
       "    <tr>\n",
       "      <th>4</th>\n",
       "      <td>Dav Pilkey</td>\n",
       "      <td>6</td>\n",
       "    </tr>\n",
       "    <tr>\n",
       "      <th>5</th>\n",
       "      <td>Bill O'Reilly</td>\n",
       "      <td>6</td>\n",
       "    </tr>\n",
       "    <tr>\n",
       "      <th>6</th>\n",
       "      <td>John Grisham</td>\n",
       "      <td>5</td>\n",
       "    </tr>\n",
       "    <tr>\n",
       "      <th>7</th>\n",
       "      <td>E L James</td>\n",
       "      <td>5</td>\n",
       "    </tr>\n",
       "    <tr>\n",
       "      <th>8</th>\n",
       "      <td>Suzanne Collins</td>\n",
       "      <td>5</td>\n",
       "    </tr>\n",
       "    <tr>\n",
       "      <th>9</th>\n",
       "      <td>Charlaine Harris</td>\n",
       "      <td>4</td>\n",
       "    </tr>\n",
       "  </tbody>\n",
       "</table>\n",
       "</div>"
      ],
      "text/plain": [
       "             Author  Name\n",
       "0       Jeff Kinney    12\n",
       "1      Rick Riordan    10\n",
       "2      J.K. Rowling     8\n",
       "3   Stephenie Meyer     7\n",
       "4        Dav Pilkey     6\n",
       "5     Bill O'Reilly     6\n",
       "6      John Grisham     5\n",
       "7         E L James     5\n",
       "8   Suzanne Collins     5\n",
       "9  Charlaine Harris     4"
      ]
     },
     "execution_count": 69,
     "metadata": {},
     "output_type": "execute_result"
    }
   ],
   "source": [
    "# Next, over a period of 2009 - 2019, which authors wrote the most bestselling books?\n",
    "\n",
    "# To answer the question, authors with their associated books would be visualised here.\n",
    "# Top 10 authors would be considered and visualised\n",
    "number_of_book_written = bestsellers_without_year.groupby(\"Author\")[[\"Name\"]].count().sort_values(\"Name\", ascending=False).head(10).reset_index()\n",
    "number_of_book_written"
   ]
  },
  {
   "cell_type": "code",
   "execution_count": 153,
   "id": "b239142d",
   "metadata": {},
   "outputs": [
    {
     "data": {
      "image/png": "[encoded data removed]",
      "text/plain": [
       "<Figure size 720x576 with 1 Axes>"
      ]
     },
     "metadata": {},
     "output_type": "display_data"
    }
   ],
   "source": [
    "# Visualisation of top 10 authers with most written book\n",
    "plt.figure(figsize=(10,8))\n",
    "viz_5 = sns.barplot(x=number_of_book_written[\"Author\"],\n",
    "                    y=number_of_book_written[\"Name\"],\n",
    "                    palette=\"rocket\")\n",
    "viz_5.set_title(\"Top 10 authors wrote most bestseller books\")\n",
    "viz_5.set_ylabel(\"Number of bestsellers\")\n",
    "viz_5.set_xlabel(\"Name of author\")\n",
    "viz_5.set_xticklabels(viz_5.get_xticklabels(), rotation=45, ha=\"right\")\n",
    "plt.show()"
   ]
  },
  {
   "cell_type": "markdown",
   "id": "bdcd3a61",
   "metadata": {},
   "source": [
    "From the above visualisation, authors such as Jeff Kinney, Rick Riordan, J.K. Rowling and among others are those who wrote the most bestselling books at the time. They often offer something interesting to the audience to read. For example, the famous wizarding world of J.K. Rowling is still a popular fiction series over the world"
   ]
  },
  {
   "cell_type": "code",
   "execution_count": 154,
   "id": "98e20440",
   "metadata": {},
   "outputs": [
    {
     "data": {
      "image/png": "[encoded data removed]",
      "text/plain": [
       "<Figure size 720x576 with 1 Axes>"
      ]
     },
     "metadata": {},
     "output_type": "display_data"
    }
   ],
   "source": [
    "books_with_most_reviews = bestsellers_without_year.groupby(\"Name\")[[\"Reviews\"]].sum().sort_values(\"Reviews\", ascending=False).head(10).reset_index()\n",
    "plt.figure(figsize=(10,8))\n",
    "viz_6 = sns.barplot(x=books_with_most_reviews[\"Name\"],\n",
    "                    y=books_with_most_reviews[\"Reviews\"],\n",
    "                    palette=\"rocket\")\n",
    "viz_6.set_title(\"Top 10 books with most reviews\")\n",
    "viz_6.set_ylabel(\"Number of Review\")\n",
    "viz_6.set_xlabel(\"Book's Name\")\n",
    "viz_6.set_xticklabels(viz_6.get_xticklabels(), rotation=45, ha=\"right\")\n",
    "plt.show()"
   ]
  },
  {
   "cell_type": "markdown",
   "id": "0bda56d0",
   "metadata": {},
   "source": [
    "From the visualisation those are 10 most reviewed books and it would definitely worth reading. Specially \"The Fault in Our Stars\" is worth that much as audience talk about it when the movie with the same name is premiered."
   ]
  },
  {
   "cell_type": "markdown",
   "id": "e0b6eccc",
   "metadata": {},
   "source": [
    "##### Insights with numerical data\n",
    "In reviewing of the numerical data such as \"Reviews\", \"User Rating\" and \"Price\", those data values are not distributed normally and asymmetry presentation is observed.\n",
    "* There are outliers in \"User Rating\" feature, where a small number of books receive a rating below 4.1 rating\n",
    "* Also, outliers are appeared in \"Reviews\" feature, where a small number of books receiving reviews above 75 percentile.\n",
    "* Lastly, some book that would cost higher than the average price, while others' price is at 0, which indicate that those books are either given for free or there is an inputting error. This is needed for further investigation."
   ]
  },
  {
   "cell_type": "code",
   "execution_count": 156,
   "id": "a5fd5703",
   "metadata": {},
   "outputs": [
    {
     "data": {
      "text/plain": [
       "<AxesSubplot:>"
      ]
     },
     "execution_count": 156,
     "metadata": {},
     "output_type": "execute_result"
    },
    {
     "data": {
      "image/png": "[encoded data removed]",
      "text/plain": [
       "<Figure size 720x576 with 2 Axes>"
      ]
     },
     "metadata": {},
     "output_type": "display_data"
    }
   ],
   "source": [
    "# While exploring the data, let's look at the correlation between data.\n",
    "plt.figure(figsize=(10,8))\n",
    "sns.heatmap(bestsellers_without_year.corr(), annot=True)"
   ]
  },
  {
   "cell_type": "markdown",
   "id": "f2dd869b",
   "metadata": {},
   "source": [
    "As from the heatmap visual, it is seen that the data does not contain any positive or negative linear relationship between those features.\n",
    "\n",
    "However, as book's genre can somehow correlate with these features. Let's us examine the correlation with book's genre as well"
   ]
  },
  {
   "cell_type": "code",
   "execution_count": 157,
   "id": "837615c0",
   "metadata": {},
   "outputs": [
    {
     "data": {
      "text/html": [
       "<div>\n",
       "<style scoped>\n",
       "    .dataframe tbody tr th:only-of-type {\n",
       "        vertical-align: middle;\n",
       "    }\n",
       "\n",
       "    .dataframe tbody tr th {\n",
       "        vertical-align: top;\n",
       "    }\n",
       "\n",
       "    .dataframe thead th {\n",
       "        text-align: right;\n",
       "    }\n",
       "</style>\n",
       "<table border=\"1\" class=\"dataframe\">\n",
       "  <thead>\n",
       "    <tr style=\"text-align: right;\">\n",
       "      <th></th>\n",
       "      <th>Name</th>\n",
       "      <th>Author</th>\n",
       "      <th>User Rating</th>\n",
       "      <th>Reviews</th>\n",
       "      <th>Price</th>\n",
       "      <th>Genre</th>\n",
       "    </tr>\n",
       "  </thead>\n",
       "  <tbody>\n",
       "    <tr>\n",
       "      <th>0</th>\n",
       "      <td>10-Day Green Smoothie Cleanse</td>\n",
       "      <td>JJ Smith</td>\n",
       "      <td>4.7</td>\n",
       "      <td>17350</td>\n",
       "      <td>8</td>\n",
       "      <td>0</td>\n",
       "    </tr>\n",
       "    <tr>\n",
       "      <th>1</th>\n",
       "      <td>11/22/63: A Novel</td>\n",
       "      <td>Stephen King</td>\n",
       "      <td>4.6</td>\n",
       "      <td>2052</td>\n",
       "      <td>22</td>\n",
       "      <td>1</td>\n",
       "    </tr>\n",
       "    <tr>\n",
       "      <th>2</th>\n",
       "      <td>12 Rules For Life: An Antidote To Chaos</td>\n",
       "      <td>Jordan B. Peterson</td>\n",
       "      <td>4.7</td>\n",
       "      <td>18979</td>\n",
       "      <td>15</td>\n",
       "      <td>0</td>\n",
       "    </tr>\n",
       "    <tr>\n",
       "      <th>3</th>\n",
       "      <td>1984 (Signet Classics)</td>\n",
       "      <td>George Orwell</td>\n",
       "      <td>4.7</td>\n",
       "      <td>21424</td>\n",
       "      <td>6</td>\n",
       "      <td>1</td>\n",
       "    </tr>\n",
       "    <tr>\n",
       "      <th>4</th>\n",
       "      <td>5,000 Awesome Facts (About Everything!) (Natio...</td>\n",
       "      <td>National Geographic Kids</td>\n",
       "      <td>4.8</td>\n",
       "      <td>7665</td>\n",
       "      <td>12</td>\n",
       "      <td>0</td>\n",
       "    </tr>\n",
       "  </tbody>\n",
       "</table>\n",
       "</div>"
      ],
      "text/plain": [
       "                                                Name  \\\n",
       "0                      10-Day Green Smoothie Cleanse   \n",
       "1                                  11/22/63: A Novel   \n",
       "2            12 Rules For Life: An Antidote To Chaos   \n",
       "3                             1984 (Signet Classics)   \n",
       "4  5,000 Awesome Facts (About Everything!) (Natio...   \n",
       "\n",
       "                     Author  User Rating  Reviews  Price  Genre  \n",
       "0                  JJ Smith          4.7    17350      8      0  \n",
       "1              Stephen King          4.6     2052     22      1  \n",
       "2        Jordan B. Peterson          4.7    18979     15      0  \n",
       "3             George Orwell          4.7    21424      6      1  \n",
       "4  National Geographic Kids          4.8     7665     12      0  "
      ]
     },
     "execution_count": 157,
     "metadata": {},
     "output_type": "execute_result"
    }
   ],
   "source": [
    "# Before look at the correlation of book's genre. The feature is in categorical dtype\n",
    "# It would need to be encoded before explore the correlation.\n",
    "def Encode(dataset):\n",
    "    for column in dataset.columns[dataset.columns.isin([\"Genre\"])]:\n",
    "        dataset[column] = dataset[column].factorize()[0]\n",
    "    return dataset\n",
    "\n",
    "encoded_bestsellers = Encode(bestsellers_without_year.copy())\n",
    "encoded_bestsellers.head()"
   ]
  },
  {
   "cell_type": "code",
   "execution_count": 159,
   "id": "2d60e03d",
   "metadata": {
    "scrolled": false
   },
   "outputs": [
    {
     "data": {
      "text/plain": [
       "<AxesSubplot:>"
      ]
     },
     "execution_count": 159,
     "metadata": {},
     "output_type": "execute_result"
    },
    {
     "data": {
      "image/png": "[encoded data removed]",
      "text/plain": [
       "<Figure size 720x576 with 2 Axes>"
      ]
     },
     "metadata": {},
     "output_type": "display_data"
    }
   ],
   "source": [
    "# Create a correlation heatmap for the encoded dataframe\n",
    "plt.figure(figsize=(10,8))\n",
    "sns.heatmap(encoded_bestsellers.corr(), annot=True)"
   ]
  },
  {
   "cell_type": "markdown",
   "id": "bf4b82f0",
   "metadata": {},
   "source": []
  }
 ],
 "metadata": {
  "kernelspec": {
   "display_name": "Python 3",
   "language": "python",
   "name": "python3"
  },
  "language_info": {
   "codemirror_mode": {
    "name": "ipython",
    "version": 3
   },
   "file_extension": ".py",
   "mimetype": "text/x-python",
   "name": "python",
   "nbconvert_exporter": "python",
   "pygments_lexer": "ipython3",
   "version": "3.8.8"
  }
 },
 "nbformat": 4,
 "nbformat_minor": 5
}
